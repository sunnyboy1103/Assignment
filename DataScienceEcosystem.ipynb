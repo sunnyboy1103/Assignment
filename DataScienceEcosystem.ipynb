{
 "cells": [
  {
   "cell_type": "markdown",
   "id": "13571d2e-93fc-41d2-83d5-c82a91b5ecab",
   "metadata": {},
   "source": [
    "# Data Science Tools and Ecosystem"
   ]
  },
  {
   "cell_type": "markdown",
   "id": "b87438f6-74d6-4340-8ba8-6e46974f6bd5",
   "metadata": {},
   "source": [
    "# In this notebook, Data Science Tools and Ecosystem are summarized."
   ]
  },
  {
   "cell_type": "markdown",
   "id": "3aef4e37-7168-4980-9bf5-c259c650ae30",
   "metadata": {},
   "source": [
    "# Some of the popular languages that Data Scientists use are:"
   ]
  },
  {
   "cell_type": "markdown",
   "id": "44391b31-8aa0-430d-acc3-5d6d8c0c1894",
   "metadata": {},
   "source": [
    "***Objectives:***\n",
    "-Popular languages for Data science\n",
    "-List examples of the various libraries: scientific, visualization, machine learning, and deep learning.\n",
    "-Describe how to use the notebooks in JupyterLab"
   ]
  },
  {
   "cell_type": "markdown",
   "id": "98f3fc26-1898-4e06-9ee8-e38a81c20148",
   "metadata": {},
   "source": [
    "1. Python\n",
    "2. R\n",
    "3. Java"
   ]
  },
  {
   "cell_type": "markdown",
   "id": "4f05b917-0638-4ece-b991-a9c51dd04745",
   "metadata": {},
   "source": [
    "# Some of the commonly used libraries used by Data Scientists include:"
   ]
  },
  {
   "cell_type": "markdown",
   "id": "bdc9aa39-99f1-452f-a632-0ba9403b6d38",
   "metadata": {},
   "source": [
    "1. Numpy\n",
    "2. Pandas\n",
    "3. Scikit-Learn"
   ]
  },
  {
   "cell_type": "markdown",
   "id": "9d8166b6-afac-4b77-a2a3-abacbe84b8f8",
   "metadata": {},
   "source": [
    "| Data Science Tools |\n",
    "| -------------|\n",
    "| Git |\n",
    "| SQL |\n",
    "| Azure Machine Learning |"
   ]
  },
  {
   "cell_type": "markdown",
   "id": "71bfe01d-3f30-42f3-8e81-bc51b76fe73e",
   "metadata": {},
   "source": [
    "### Below are a few examples of evaluating arithmetic expressions in Python"
   ]
  },
  {
   "cell_type": "code",
   "execution_count": 3,
   "id": "6a4375ab-c254-46b6-904b-27a7d916afd4",
   "metadata": {},
   "outputs": [
    {
     "data": {
      "text/plain": [
       "17"
      ]
     },
     "execution_count": 3,
     "metadata": {},
     "output_type": "execute_result"
    }
   ],
   "source": [
    "# This a simple arithmetic expression to mutiply then add integers\n",
    "(3*4)+5"
   ]
  },
  {
   "cell_type": "code",
   "execution_count": 15,
   "id": "315197a8-999a-4f44-822c-c60c1c9d6657",
   "metadata": {},
   "outputs": [
    {
     "name": "stdout",
     "output_type": "stream",
     "text": [
      "200minutes=3.3333333333333335hours\n"
     ]
    }
   ],
   "source": [
    "#This will convert 200 minutes to hours by diving by 60\n",
    "def minutes_to_hours(minutes):\n",
    "    hours = minutes/60\n",
    "    return f\"{hours}hours\"\n",
    "minutes = 200\n",
    "result = minutes_to_hours(minutes)\n",
    "print(f\"{minutes}minutes={result}\")"
   ]
  },
  {
   "cell_type": "markdown",
   "id": "2f1535c8-a629-4d73-9063-9ab023193abd",
   "metadata": {},
   "source": [
    "##Author\n",
    "  Kevin Sun"
   ]
  }
 ],
 "metadata": {
  "kernelspec": {
   "display_name": "anaconda-panel-2023.05-py310",
   "language": "python",
   "name": "conda-env-anaconda-panel-2023.05-py310-py"
  },
  "language_info": {
   "codemirror_mode": {
    "name": "ipython",
    "version": 3
   },
   "file_extension": ".py",
   "mimetype": "text/x-python",
   "name": "python",
   "nbconvert_exporter": "python",
   "pygments_lexer": "ipython3",
   "version": "3.11.5"
  }
 },
 "nbformat": 4,
 "nbformat_minor": 5
}
